{
 "cells": [
  {
   "cell_type": "markdown",
   "id": "839fc09e",
   "metadata": {},
   "source": [
    "## Deep learning (Computer vision)"
   ]
  },
  {
   "cell_type": "code",
   "execution_count": 2,
   "id": "e89f33cc",
   "metadata": {},
   "outputs": [],
   "source": [
    "import IPython.display as display\n",
    "from PIL import Image\n",
    "import numpy as np\n",
    "import matplotlib.pyplot as plt\n",
    "import os\n",
    "import pathlib\n",
    "import tensorflow as tf\n",
    "\n"
   ]
  },
  {
   "cell_type": "code",
   "execution_count": 4,
   "id": "a9e457b2",
   "metadata": {},
   "outputs": [],
   "source": [
    "DATASET_URL = 'https://storage.googleapis.com/download.tensorflow.org/example_images/flower_photos.tgz'\n",
    "\n",
    "data_dir = tf.keras.utils.get_file(origin=DATASET_URL, fname='flower_photos', untar=True)\n"
   ]
  },
  {
   "cell_type": "code",
   "execution_count": 6,
   "id": "92329aa2",
   "metadata": {},
   "outputs": [
    {
     "name": "stdout",
     "output_type": "stream",
     "text": [
      "1st:  <class 'pathlib.PosixPath'>\n",
      "2nd:  <class 'pathlib.PosixPath'>\n"
     ]
    }
   ],
   "source": [
    "print(\"1st: \",type(data_dir))\n",
    "data_dir = pathlib.Path(data_dir)\n",
    "print(\"2nd: \",type(data_dir))"
   ]
  },
  {
   "cell_type": "code",
   "execution_count": null,
   "id": "382c12b9",
   "metadata": {},
   "outputs": [],
   "source": []
  },
  {
   "cell_type": "code",
   "execution_count": 8,
   "id": "67b98850",
   "metadata": {},
   "outputs": [
    {
     "name": "stdout",
     "output_type": "stream",
     "text": [
      "/bin/bash: line 1: tree: command not found\r\n"
     ]
    }
   ],
   "source": [
    "# !sudo apt install -qq tree\n",
    "!tree -L 1 /root/.keras/datasets/flower_photos"
   ]
  }
 ],
 "metadata": {
  "kernelspec": {
   "display_name": "Python 3 (ipykernel)",
   "language": "python",
   "name": "python3"
  },
  "language_info": {
   "codemirror_mode": {
    "name": "ipython",
    "version": 3
   },
   "file_extension": ".py",
   "mimetype": "text/x-python",
   "name": "python",
   "nbconvert_exporter": "python",
   "pygments_lexer": "ipython3",
   "version": "3.10.6"
  }
 },
 "nbformat": 4,
 "nbformat_minor": 5
}
