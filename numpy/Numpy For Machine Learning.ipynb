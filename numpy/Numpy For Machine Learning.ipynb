{
 "cells": [
  {
   "cell_type": "markdown",
   "id": "a3bffcb2",
   "metadata": {},
   "source": [
    "## Initiation from here\n",
    "#### Video 1\n",
    "##### https://www.youtube.com/playlist?list=PLCC34OHNcOtpalASMlX2HHdsLNipyyhbK"
   ]
  },
  {
   "cell_type": "code",
   "execution_count": 22,
   "id": "e196c854",
   "metadata": {},
   "outputs": [
    {
     "name": "stdout",
     "output_type": "stream",
     "text": [
      "[1, 2, 3, 4, 5]\n",
      "1\n",
      "['john Elder', 41, [1, 2, 3, 4]]\n",
      "[0 1 2 3 4 5 6 7 8 9]\n",
      "(10,)\n",
      "[0 1 2 3 4 5 6 7 8 9]\n",
      "[0 2 4 6 8]\n",
      "[0. 0. 0. 0. 0. 0. 0. 0. 0. 0.]\n",
      "[[0. 0. 0. 0. 0. 0. 0. 0. 0. 0.]\n",
      " [0. 0. 0. 0. 0. 0. 0. 0. 0. 0.]]\n",
      "[6 6 6 6 6 6 6 6 6 6]\n",
      "[[6 6 6 6 6 6 6 6 6 6]\n",
      " [6 6 6 6 6 6 6 6 6 6]]\n",
      "[1 2 3 4 5 6]\n",
      "1\n"
     ]
    }
   ],
   "source": [
    "import numpy as np\n",
    "\n",
    "list1 = [1,2,3, 4, 5]\n",
    "\n",
    "print(list1)\n",
    "print(list1[0])\n",
    "\n",
    "list2 = [\"john Elder\", 41,[1,2,3,4]]\n",
    "print(list2)\n",
    "\n",
    "# Numpy - Numeric python\n",
    "# ndarry = n-dimensional array\n",
    "\n",
    "np1 = np.array([0,1,2,3,4,5,6,7,8,9])\n",
    "\n",
    "print(np1)\n",
    "print(np1.shape)\n",
    "\n",
    "np2 = np.arange(10)\n",
    "print(np2)\n",
    "\n",
    "np3 = np.arange(0,10,2)\n",
    "print(np3)\n",
    "\n",
    "np4 = np.zeros(10)\n",
    "print(np4)\n",
    "\n",
    "np5 = np.zeros((2,10))\n",
    "print(np5)\n",
    "\n",
    "np6 = np.full((10), 6)\n",
    "print(np6)\n",
    "\n",
    "np7 = np.full((2,10), 6)\n",
    "print(np7)\n",
    "\n",
    "# conver python list to numpy\n",
    "my_list = [1,2,3,4,5,6]\n",
    "np8 = np.array(my_list)\n",
    "print(np8)\n",
    "print(np8[0])"
   ]
  },
  {
   "cell_type": "markdown",
   "id": "aca62d5d",
   "metadata": {},
   "source": [
    "### Video 2"
   ]
  },
  {
   "cell_type": "code",
   "execution_count": 34,
   "id": "55a2ed48",
   "metadata": {},
   "outputs": [
    {
     "name": "stdout",
     "output_type": "stream",
     "text": [
      "[2 3 4 5]\n",
      "[2 3 4 5 6 7 8 9]\n",
      "[1 2 3 4]\n",
      "[7 8]\n",
      "[2 4]\n",
      "[1 4 7]\n",
      "8\n",
      "[[2 3]]\n",
      "[[2 3]\n",
      " [7 8]]\n"
     ]
    }
   ],
   "source": [
    "import numpy as np\n",
    "\n",
    "np1 = np.array([1,2,3,4,5,6,7,8,9])\n",
    "\n",
    "# Return 2,3,4,5\n",
    "\n",
    "print(np1[1:5])\n",
    "print(np1[1:])\n",
    "print(np1[:4])\n",
    "print(np1[-3:-1])\n",
    "\n",
    "# steps\n",
    "print(np1[1:5:2])\n",
    "\n",
    "print(np1[::3])\n",
    "\n",
    "np2 = np.array([[1,2,3,4,5], [6,7,8,9,10]])\n",
    "\n",
    "# Slice a 2-d array\n",
    "\n",
    "print(np2[1,2])\n",
    "print(np2[0:1, 1:3])\n",
    "print(np2[0:2, 1:3])\n",
    "\n",
    "\n",
    "\n",
    "\n"
   ]
  },
  {
   "cell_type": "markdown",
   "id": "82afa41f",
   "metadata": {},
   "source": [
    "### Video 3"
   ]
  },
  {
   "cell_type": "code",
   "execution_count": 40,
   "id": "889b9894",
   "metadata": {},
   "outputs": [
    {
     "name": "stdout",
     "output_type": "stream",
     "text": [
      "[0 1 2 3 4 5 6 7 8 9]\n",
      "[0.         1.         1.41421356 1.73205081 2.         2.23606798\n",
      " 2.44948974 2.64575131 2.82842712 3.        ]\n",
      "[3 2 1 0 1 2 3 4 5]\n",
      "[1.00000000e+00 2.71828183e+00 7.38905610e+00 2.00855369e+01\n",
      " 5.45981500e+01 1.48413159e+02 4.03428793e+02 1.09663316e+03\n",
      " 2.98095799e+03 8.10308393e+03]\n",
      "9\n",
      "0\n",
      "[0 1 1 1 1 1 1 1 1 1]\n",
      "[-1 -1 -1  0  1  1  1  1  1]\n"
     ]
    }
   ],
   "source": [
    "import numpy as np\n",
    "\n",
    "\n",
    "np1 = np.array([0,1,2,3,4,5,6,7,8,9])\n",
    "print(np1)\n",
    "# Square root of each element\n",
    "\n",
    "print(np.sqrt(np1))\n",
    "\n",
    "# absolute value \n",
    "np2 = np.array([-3,-2,-1,0,1,2,3,4,5])\n",
    "print(np.absolute(np2))\n",
    "\n",
    "print(np.exp(np1))\n",
    "print(np.max(np1))\n",
    "print(np.min(np1))\n",
    "\n",
    "# Sing positive or negative\n",
    "print(np.sign(np1))\n",
    "print(np.sign(np2))"
   ]
  },
  {
   "cell_type": "markdown",
   "id": "4922d855",
   "metadata": {},
   "source": [
    "### Video 4"
   ]
  },
  {
   "cell_type": "code",
   "execution_count": 43,
   "id": "bc1d3dd2",
   "metadata": {},
   "outputs": [
    {
     "name": "stdout",
     "output_type": "stream",
     "text": [
      "Original np1 [0 1 2 3 4 5 6 7]\n",
      "Original np2 [0 1 2 3 4 5 6 7]\n",
      "Changed Original np1 [41  1  2  3  4  5  6  7]\n",
      "Changed Original np2 [41  1  2  3  4  5  6  7]\n",
      "Original np3 [0 1 2 3 4 5 6 7]\n",
      "Original np5 [0 1 2 3 4 5 6 7]\n",
      "Original np3 [41  1  2  3  4  5  6  7]\n",
      "Original np5 [0 1 2 3 4 5 6 7]\n"
     ]
    }
   ],
   "source": [
    "import numpy as np\n",
    "\n",
    "# copy vs view\n",
    "np1 = np.array([0,1,2,3,4,5,6,7])\n",
    "\n",
    "# Create a view\n",
    "np2 = np1.view()\n",
    "print(f'Original np1 {np1}')\n",
    "print(f'Original np2 {np2}')\n",
    "\n",
    "np1[0] = 41\n",
    "\n",
    "print(f'Changed Original np1 {np1}')\n",
    "print(f'Changed Original np2 {np2}')\n",
    "\n",
    "\n",
    "# Create a copy\n",
    "np3 = np.array([0,1,2,3,4,5,6,7])\n",
    "np4 = np3.copy()\n",
    "print(f'Original np3 {np3}')\n",
    "print(f'Original np5 {np4}')\n",
    "\n",
    "np3[0] = 41\n",
    "\n",
    "print(f'Original np3 {np3}')\n",
    "print(f'Original np5 {np4}')"
   ]
  },
  {
   "cell_type": "markdown",
   "id": "e79a9672",
   "metadata": {},
   "source": [
    "### Video 5"
   ]
  },
  {
   "cell_type": "code",
   "execution_count": 52,
   "id": "1aea55c8",
   "metadata": {},
   "outputs": [
    {
     "name": "stdout",
     "output_type": "stream",
     "text": [
      "(12,)\n",
      "(2, 6)\n",
      "[[ 1  2  3  4]\n",
      " [ 5  6  7  8]\n",
      " [ 9 10 11 12]]\n",
      "(3, 4)\n",
      "(2, 3, 2)\n",
      "[[[ 1  2]\n",
      "  [ 3  4]\n",
      "  [ 5  6]]\n",
      "\n",
      " [[ 7  8]\n",
      "  [ 9 10]\n",
      "  [11 12]]]\n",
      "[ 1  2  3  4  5  6  7  8  9 10 11 12]\n",
      "(12,)\n"
     ]
    }
   ],
   "source": [
    "# Create 1-D Numpy Array and Get Shape\n",
    "np1 = np.array([1,2,3,4,5,6,7,8,9,10,11,12])\n",
    "print(np1.shape)\n",
    "\n",
    "\n",
    "\n",
    "# Create 2-D Numpy Array and Get Shape\n",
    "\n",
    "np2 = np.array([\n",
    "    [1,2,3,4,5,6],\n",
    "    [7,8,9,10,11,12]])\n",
    "print(np2.shape)\n",
    "\n",
    "# Reshape 2-D\n",
    "np3 = np1.reshape(3,4)\n",
    "print(np3)\n",
    "print(np3.shape)\n",
    "\n",
    "# Reshape 3-D\n",
    "np4 = np1.reshape(2,3,2)\n",
    "print(np4.shape)\n",
    "print(np4)\n",
    "\n",
    "# Reshape 1-D\n",
    "np5 = np4.reshape(-1)\n",
    "print(np5)\n",
    "print(np5.shape)"
   ]
  },
  {
   "cell_type": "markdown",
   "id": "10e70bd5",
   "metadata": {},
   "source": [
    "### Video 6"
   ]
  },
  {
   "cell_type": "code",
   "execution_count": 62,
   "id": "dfd2d096",
   "metadata": {},
   "outputs": [
    {
     "name": "stdout",
     "output_type": "stream",
     "text": [
      "123456789101112\n",
      "1\n",
      "2\n",
      "3\n",
      "4\n",
      "5\n",
      "6\n",
      "7\n",
      "8\n",
      "9\n",
      "10\n",
      "(2, 2, 3)\n"
     ]
    }
   ],
   "source": [
    "import numpy as np\n",
    "\n",
    "np1 = np.array([1,2,3,4,5,6,7,8,9,10,11,12])\n",
    "\n",
    "for x in np1:\n",
    "    print(x, end=\"\")\n",
    "\n",
    "print()\n",
    "\n",
    "# 2-D Array\n",
    "np2 = np.array([[1,2,3,4,5],[6,7,8,9,10]])\n",
    "\n",
    "for x in np2:\n",
    "    for y in x:\n",
    "        print(y)\n",
    "    \n",
    "# 3-D Array\n",
    "np3 = np.array([[[1,2,3],[4,5,6]],[[7,8,9],[10,11,12]]])\n",
    "\n",
    "print(np3.shape)\n",
    "\n",
    "# Use np.nditer()\n",
    "\n",
    "# for x in np.nditer(np3):\n",
    "#     print(x)\n",
    "# for x in np.nditer(np2):\n",
    "#     print(x)\n",
    "\n"
   ]
  },
  {
   "cell_type": "markdown",
   "id": "e0d54522",
   "metadata": {},
   "source": [
    "### Video 7"
   ]
  },
  {
   "cell_type": "code",
   "execution_count": 68,
   "id": "abf2ef67",
   "metadata": {},
   "outputs": [
    {
     "name": "stdout",
     "output_type": "stream",
     "text": [
      "[ 1  2  3  4  5 10  6  7  8  9]\n",
      "[ 1  2  3  4  5  6  7  8  9 10]\n",
      "['Aron' 'John' 'Tina']\n",
      "[False False  True  True]\n",
      "[[ 1  2  3  4  5]\n",
      " [ 6  7  8  9 10]]\n"
     ]
    }
   ],
   "source": [
    "import numpy as np\n",
    "\n",
    "np1 = np.array([1,2,3,4,5,10,6,7,8,9])\n",
    "print(np1)\n",
    "\n",
    "# number sort\n",
    "print(np.sort(np1))\n",
    "\n",
    "# Alphabatic Sort\n",
    "np2 = np.array([\"John\", \"Tina\", \"Aron\"])\n",
    "print(np.sort(np2))\n",
    "\n",
    "# Boolens T/F\n",
    "np3 = np.array([True, False, False, True])\n",
    "\n",
    "print(np.sort(np3))\n",
    "\n",
    "\n",
    "# Return a copy not change the original\n",
    "np4 = np.array([[1,2,4,3,5],[6,7,9,8,10]])\n",
    "print(np.sort(np4))"
   ]
  },
  {
   "cell_type": "markdown",
   "id": "f436ea64",
   "metadata": {},
   "source": [
    "### Video 8"
   ]
  },
  {
   "cell_type": "code",
   "execution_count": 73,
   "id": "413952ac",
   "metadata": {},
   "outputs": [
    {
     "name": "stdout",
     "output_type": "stream",
     "text": [
      "[1 2 3 4 5 6 7 8 9]\n",
      "[2]\n",
      "[[3]]\n",
      "(array([1, 3, 5, 7]),)\n",
      "[2 4 6 8]\n"
     ]
    }
   ],
   "source": [
    "import numpy as np\n",
    "\n",
    "np1 = np.array([1,2,3,4,5,6,7,8,9])\n",
    "\n",
    "x = np.where(np1 == 3)\n",
    "print(np1)\n",
    "print(x[0])\n",
    "print(np1[[x[0]]])\n",
    "\n",
    "\n",
    "# Order even number\n",
    "y = np.where(np1%2 == 0)\n",
    "\n",
    "print(y)\n",
    "print(np1[y[0]])\n",
    "\n",
    "# return odd number\n",
    "\n"
   ]
  },
  {
   "cell_type": "markdown",
   "id": "32d15443",
   "metadata": {},
   "source": [
    "### Video 9"
   ]
  },
  {
   "cell_type": "code",
   "execution_count": 1,
   "id": "3eb25622",
   "metadata": {},
   "outputs": [
    {
     "name": "stdout",
     "output_type": "stream",
     "text": [
      "[1 2 3 4 5 6 7 8 9]\n",
      "[1 2]\n"
     ]
    }
   ],
   "source": [
    "import numpy as np\n",
    "\n",
    "# Filtering numpy array With Boolen index\n",
    "np1 = np.array([1,2,3,4,5,6,7,8,9])\n",
    "\n",
    "x = [True, True, False, False, False, False, False, False, False]\n",
    "\n",
    "print(np1)\n",
    "print(np1[x])"
   ]
  }
 ],
 "metadata": {
  "kernelspec": {
   "display_name": "Python 3 (ipykernel)",
   "language": "python",
   "name": "python3"
  },
  "language_info": {
   "codemirror_mode": {
    "name": "ipython",
    "version": 3
   },
   "file_extension": ".py",
   "mimetype": "text/x-python",
   "name": "python",
   "nbconvert_exporter": "python",
   "pygments_lexer": "ipython3",
   "version": "3.10.6"
  }
 },
 "nbformat": 4,
 "nbformat_minor": 5
}
