{
 "cells": [
  {
   "cell_type": "markdown",
   "id": "b1481667",
   "metadata": {},
   "source": [
    "## Initiation from here\n",
    "#### Video 1\n",
    "##### https://www.youtube.com/playlist?list=PLCC34OHNcOtpalASMlX2HHdsLNipyyhbK"
   ]
  },
  {
   "cell_type": "code",
   "execution_count": 22,
   "id": "8640e910",
   "metadata": {},
   "outputs": [
    {
     "name": "stdout",
     "output_type": "stream",
     "text": [
      "[1, 2, 3, 4, 5]\n",
      "1\n",
      "['john Elder', 41, [1, 2, 3, 4]]\n",
      "[0 1 2 3 4 5 6 7 8 9]\n",
      "(10,)\n",
      "[0 1 2 3 4 5 6 7 8 9]\n",
      "[0 2 4 6 8]\n",
      "[0. 0. 0. 0. 0. 0. 0. 0. 0. 0.]\n",
      "[[0. 0. 0. 0. 0. 0. 0. 0. 0. 0.]\n",
      " [0. 0. 0. 0. 0. 0. 0. 0. 0. 0.]]\n",
      "[6 6 6 6 6 6 6 6 6 6]\n",
      "[[6 6 6 6 6 6 6 6 6 6]\n",
      " [6 6 6 6 6 6 6 6 6 6]]\n",
      "[1 2 3 4 5 6]\n",
      "1\n"
     ]
    }
   ],
   "source": [
    "import numpy as np\n",
    "\n",
    "list1 = [1,2,3, 4, 5]\n",
    "\n",
    "print(list1)\n",
    "print(list1[0])\n",
    "\n",
    "list2 = [\"john Elder\", 41,[1,2,3,4]]\n",
    "print(list2)\n",
    "\n",
    "# Numpy - Numeric python\n",
    "# ndarry = n-dimensional array\n",
    "\n",
    "np1 = np.array([0,1,2,3,4,5,6,7,8,9])\n",
    "\n",
    "print(np1)\n",
    "print(np1.shape)\n",
    "\n",
    "np2 = np.arange(10)\n",
    "print(np2)\n",
    "\n",
    "np3 = np.arange(0,10,2)\n",
    "print(np3)\n",
    "\n",
    "np4 = np.zeros(10)\n",
    "print(np4)\n",
    "\n",
    "np5 = np.zeros((2,10))\n",
    "print(np5)\n",
    "\n",
    "np6 = np.full((10), 6)\n",
    "print(np6)\n",
    "\n",
    "np7 = np.full((2,10), 6)\n",
    "print(np7)\n",
    "\n",
    "# conver python list to numpy\n",
    "my_list = [1,2,3,4,5,6]\n",
    "np8 = np.array(my_list)\n",
    "print(np8)\n",
    "print(np8[0])"
   ]
  },
  {
   "cell_type": "markdown",
   "id": "b924c0e5",
   "metadata": {},
   "source": [
    "### Video 2"
   ]
  },
  {
   "cell_type": "code",
   "execution_count": 34,
   "id": "ec4ef422",
   "metadata": {},
   "outputs": [
    {
     "name": "stdout",
     "output_type": "stream",
     "text": [
      "[2 3 4 5]\n",
      "[2 3 4 5 6 7 8 9]\n",
      "[1 2 3 4]\n",
      "[7 8]\n",
      "[2 4]\n",
      "[1 4 7]\n",
      "8\n",
      "[[2 3]]\n",
      "[[2 3]\n",
      " [7 8]]\n"
     ]
    }
   ],
   "source": [
    "import numpy as np\n",
    "\n",
    "np1 = np.array([1,2,3,4,5,6,7,8,9])\n",
    "\n",
    "# Return 2,3,4,5\n",
    "\n",
    "print(np1[1:5])\n",
    "print(np1[1:])\n",
    "print(np1[:4])\n",
    "print(np1[-3:-1])\n",
    "\n",
    "# steps\n",
    "print(np1[1:5:2])\n",
    "\n",
    "print(np1[::3])\n",
    "\n",
    "np2 = np.array([[1,2,3,4,5], [6,7,8,9,10]])\n",
    "\n",
    "# Slice a 2-d array\n",
    "\n",
    "print(np2[1,2])\n",
    "print(np2[0:1, 1:3])\n",
    "print(np2[0:2, 1:3])\n",
    "\n",
    "\n",
    "\n",
    "\n"
   ]
  },
  {
   "cell_type": "markdown",
   "id": "44a079ab",
   "metadata": {},
   "source": [
    "### Video 3"
   ]
  },
  {
   "cell_type": "code",
   "execution_count": 40,
   "id": "fd5b54ad",
   "metadata": {},
   "outputs": [
    {
     "name": "stdout",
     "output_type": "stream",
     "text": [
      "[0 1 2 3 4 5 6 7 8 9]\n",
      "[0.         1.         1.41421356 1.73205081 2.         2.23606798\n",
      " 2.44948974 2.64575131 2.82842712 3.        ]\n",
      "[3 2 1 0 1 2 3 4 5]\n",
      "[1.00000000e+00 2.71828183e+00 7.38905610e+00 2.00855369e+01\n",
      " 5.45981500e+01 1.48413159e+02 4.03428793e+02 1.09663316e+03\n",
      " 2.98095799e+03 8.10308393e+03]\n",
      "9\n",
      "0\n",
      "[0 1 1 1 1 1 1 1 1 1]\n",
      "[-1 -1 -1  0  1  1  1  1  1]\n"
     ]
    }
   ],
   "source": [
    "import numpy as np\n",
    "\n",
    "\n",
    "np1 = np.array([0,1,2,3,4,5,6,7,8,9])\n",
    "print(np1)\n",
    "# Square root of each element\n",
    "\n",
    "print(np.sqrt(np1))\n",
    "\n",
    "# absolute value \n",
    "np2 = np.array([-3,-2,-1,0,1,2,3,4,5])\n",
    "print(np.absolute(np2))\n",
    "\n",
    "print(np.exp(np1))\n",
    "print(np.max(np1))\n",
    "print(np.min(np1))\n",
    "\n",
    "# Sing positive or negative\n",
    "print(np.sign(np1))\n",
    "print(np.sign(np2))"
   ]
  },
  {
   "cell_type": "markdown",
   "id": "3537319b",
   "metadata": {},
   "source": [
    "### Video 4"
   ]
  },
  {
   "cell_type": "code",
   "execution_count": 41,
   "id": "443f1899",
   "metadata": {},
   "outputs": [
    {
     "name": "stdout",
     "output_type": "stream",
     "text": [
      "Original np1 [0 1 2 3 4 5 6 7]\n",
      "Original np2 [0 1 2 3 4 5 6 7]\n",
      "Changed Original np1 [41  1  2  3  4  5  6  7]\n",
      "Changed Original np2 [41  1  2  3  4  5  6  7]\n"
     ]
    }
   ],
   "source": [
    "import numpy as np\n",
    "\n",
    "# copy vs view\n",
    "np1 = np.array([0,1,2,3,4,5,6,7])\n",
    "\n",
    "# Create a view\n",
    "np2 = np1.view()\n",
    "print(f'Original np1 {np1}')\n",
    "print(f'Original np2 {np2}')\n",
    "\n",
    "np1[0] = 41\n",
    "\n",
    "print(f'Changed Original np1 {np1}')\n",
    "print(f'Changed Original np2 {np2}')\n",
    "\n",
    "\n",
    "# Create a copy\n",
    "np3 = np.array([0,1,2,3,4,5,6,7])\n",
    "np4 = np3.view()\n",
    "print(f'Original np3 {np3}')\n",
    "print(f'Original np5 {np4}')\n",
    "\n",
    "np3[0] = 41\n",
    "\n",
    "print(f'Original np3 {np3}')\n",
    "print(f'Original np5 {np4}')"
   ]
  }
 ],
 "metadata": {
  "kernelspec": {
   "display_name": "Python 3 (ipykernel)",
   "language": "python",
   "name": "python3"
  },
  "language_info": {
   "codemirror_mode": {
    "name": "ipython",
    "version": 3
   },
   "file_extension": ".py",
   "mimetype": "text/x-python",
   "name": "python",
   "nbconvert_exporter": "python",
   "pygments_lexer": "ipython3",
   "version": "3.10.6"
  }
 },
 "nbformat": 4,
 "nbformat_minor": 5
}
